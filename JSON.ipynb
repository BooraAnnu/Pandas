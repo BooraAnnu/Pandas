{
 "cells": [
  {
   "cell_type": "markdown",
   "metadata": {},
   "source": [
    "# Read Json"
   ]
  },
  {
   "cell_type": "code",
   "execution_count": 4,
   "metadata": {},
   "outputs": [
    {
     "data": {
      "text/html": [
       "<div>\n",
       "<style scoped>\n",
       "    .dataframe tbody tr th:only-of-type {\n",
       "        vertical-align: middle;\n",
       "    }\n",
       "\n",
       "    .dataframe tbody tr th {\n",
       "        vertical-align: top;\n",
       "    }\n",
       "\n",
       "    .dataframe thead th {\n",
       "        text-align: right;\n",
       "    }\n",
       "</style>\n",
       "<table border=\"1\" class=\"dataframe\">\n",
       "  <thead>\n",
       "    <tr style=\"text-align: right;\">\n",
       "      <th></th>\n",
       "      <th>cars</th>\n",
       "    </tr>\n",
       "  </thead>\n",
       "  <tbody>\n",
       "    <tr>\n",
       "      <th>0</th>\n",
       "      <td>{'Name': 'Honda', 'Price': 10000, 'Model': 200...</td>\n",
       "    </tr>\n",
       "    <tr>\n",
       "      <th>1</th>\n",
       "      <td>{'Name': 'Toyota', 'Price': 12000, 'Model': 20...</td>\n",
       "    </tr>\n",
       "    <tr>\n",
       "      <th>2</th>\n",
       "      <td>{'Name': 'Audi', 'Price': 25000, 'Model': 2017...</td>\n",
       "    </tr>\n",
       "    <tr>\n",
       "      <th>3</th>\n",
       "      <td>{'Name': 'Ford', 'Price': 28000, 'Model': 2009...</td>\n",
       "    </tr>\n",
       "  </tbody>\n",
       "</table>\n",
       "</div>"
      ],
      "text/plain": [
       "                                                cars\n",
       "0  {'Name': 'Honda', 'Price': 10000, 'Model': 200...\n",
       "1  {'Name': 'Toyota', 'Price': 12000, 'Model': 20...\n",
       "2  {'Name': 'Audi', 'Price': 25000, 'Model': 2017...\n",
       "3  {'Name': 'Ford', 'Price': 28000, 'Model': 2009..."
      ]
     },
     "execution_count": 4,
     "metadata": {},
     "output_type": "execute_result"
    }
   ],
   "source": [
    "from pandas import *\n",
    "\n",
    "df= read_json(r\"cars_data.json\")   #Read json file\n",
    "df\n"
   ]
  },
  {
   "cell_type": "code",
   "execution_count": 6,
   "metadata": {},
   "outputs": [
    {
     "name": "stdout",
     "output_type": "stream",
     "text": [
      "                                                               cars\n",
      "0   {'Name': 'Honda', 'Price': 10000, 'Model': 2005, 'Power': 1300}\n",
      "1  {'Name': 'Toyota', 'Price': 12000, 'Model': 2010, 'Power': 1600}\n",
      "2    {'Name': 'Audi', 'Price': 25000, 'Model': 2017, 'Power': 1800}\n",
      "3    {'Name': 'Ford', 'Price': 28000, 'Model': 2009, 'Power': 1200}\n"
     ]
    }
   ],
   "source": [
    "print(df.to_string())    #To print the entire data"
   ]
  },
  {
   "cell_type": "markdown",
   "metadata": {},
   "source": [
    "# Directory as Json"
   ]
  },
  {
   "cell_type": "code",
   "execution_count": 15,
   "metadata": {},
   "outputs": [
    {
     "data": {
      "text/html": [
       "<div>\n",
       "<style scoped>\n",
       "    .dataframe tbody tr th:only-of-type {\n",
       "        vertical-align: middle;\n",
       "    }\n",
       "\n",
       "    .dataframe tbody tr th {\n",
       "        vertical-align: top;\n",
       "    }\n",
       "\n",
       "    .dataframe thead th {\n",
       "        text-align: right;\n",
       "    }\n",
       "</style>\n",
       "<table border=\"1\" class=\"dataframe\">\n",
       "  <thead>\n",
       "    <tr style=\"text-align: right;\">\n",
       "      <th></th>\n",
       "      <th>Name</th>\n",
       "      <th>Price</th>\n",
       "      <th>Model</th>\n",
       "      <th>Power</th>\n",
       "    </tr>\n",
       "  </thead>\n",
       "  <tbody>\n",
       "    <tr>\n",
       "      <th>0</th>\n",
       "      <td>Honda</td>\n",
       "      <td>10000</td>\n",
       "      <td>2005</td>\n",
       "      <td>1300</td>\n",
       "    </tr>\n",
       "    <tr>\n",
       "      <th>1</th>\n",
       "      <td>Toyota</td>\n",
       "      <td>12000</td>\n",
       "      <td>2010</td>\n",
       "      <td>1600</td>\n",
       "    </tr>\n",
       "    <tr>\n",
       "      <th>2</th>\n",
       "      <td>Audi</td>\n",
       "      <td>25000</td>\n",
       "      <td>2017</td>\n",
       "      <td>1800</td>\n",
       "    </tr>\n",
       "    <tr>\n",
       "      <th>3</th>\n",
       "      <td>Ford</td>\n",
       "      <td>28000</td>\n",
       "      <td>2009</td>\n",
       "      <td>1200</td>\n",
       "    </tr>\n",
       "  </tbody>\n",
       "</table>\n",
       "</div>"
      ],
      "text/plain": [
       "     Name  Price  Model  Power\n",
       "0   Honda  10000   2005   1300\n",
       "1  Toyota  12000   2010   1600\n",
       "2    Audi  25000   2017   1800\n",
       "3    Ford  28000   2009   1200"
      ]
     },
     "execution_count": 15,
     "metadata": {},
     "output_type": "execute_result"
    }
   ],
   "source": [
    "#If your JSON code is not in a file, but in a Python Dictionary, you can load it into a DataFrame directly\n",
    "cars =  {\n",
    "     \"Name\" : {\n",
    "         \"0\" : \"Honda\",\n",
    "         \"1\" : \"Toyota\",\n",
    "         \"2\" : \"Audi\",\n",
    "         \"3\" : \"Ford\"\n",
    "     },\n",
    "     \"Price\" : {\n",
    "         \"0\" : 10000,\n",
    "         \"1\" : 12000,\n",
    "         \"2\" : 25000,\n",
    "         \"3\" : 28000\n",
    "     },\n",
    "       \"Model\" : {\n",
    "         \"0\" : 2005,\n",
    "         \"1\" : 2010,\n",
    "         \"2\" : 2017,\n",
    "         \"3\" : 2009\n",
    "     }, \n",
    "     \"Power\" : {\n",
    "         \"0\" : 1300,\n",
    "         \"1\" : 1600,\n",
    "         \"2\" : 1800,\n",
    "         \"3\" : 1200\n",
    "     },\n",
    "}\n",
    "    \n",
    "df= DataFrame(cars)\n",
    "df"
   ]
  },
  {
   "cell_type": "code",
   "execution_count": 11,
   "metadata": {},
   "outputs": [
    {
     "name": "stdout",
     "output_type": "stream",
     "text": [
      "<class 'pandas.core.frame.DataFrame'>\n",
      "Index: 4 entries, 0 to 3\n",
      "Data columns (total 4 columns):\n",
      " #   Column  Non-Null Count  Dtype \n",
      "---  ------  --------------  ----- \n",
      " 0   Name    4 non-null      object\n",
      " 1   Price   4 non-null      int64 \n",
      " 2   Model   4 non-null      int64 \n",
      " 3   Power   4 non-null      int64 \n",
      "dtypes: int64(3), object(1)\n",
      "memory usage: 160.0+ bytes\n"
     ]
    }
   ],
   "source": [
    "df.info()"
   ]
  },
  {
   "cell_type": "code",
   "execution_count": null,
   "metadata": {},
   "outputs": [],
   "source": []
  }
 ],
 "metadata": {
  "kernelspec": {
   "display_name": "Python 3",
   "language": "python",
   "name": "python3"
  },
  "language_info": {
   "codemirror_mode": {
    "name": "ipython",
    "version": 3
   },
   "file_extension": ".py",
   "mimetype": "text/x-python",
   "name": "python",
   "nbconvert_exporter": "python",
   "pygments_lexer": "ipython3",
   "version": "3.7.6"
  }
 },
 "nbformat": 4,
 "nbformat_minor": 4
}
